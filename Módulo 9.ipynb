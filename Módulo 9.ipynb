{
 "cells": [
  {
   "cell_type": "markdown",
   "metadata": {},
   "source": [
    "# Kata 9\n",
    "## Uso de funciones"
   ]
  },
  {
   "cell_type": "code",
   "execution_count": null,
   "metadata": {},
   "outputs": [],
   "source": [
    "def informe_combustibles(tanque_1, tanque_2, tanque_3):\n",
    "    promedio_tanques = (tanque_1 + tanque_2 + tanque_3) / 3\n",
    "    return f'''Reporte de combustible:\n",
    "    Promedio: {promedio_tanques} %\n",
    "    Tanque 1: {tanque_1} %\n",
    "    Tanque 2: {tanque_2} %\n",
    "    Tanque 3: {tanque_3} % \n",
    "    '''\n",
    "print(informe_combustibles(10, 10, 10))"
   ]
  },
  {
   "cell_type": "code",
   "execution_count": 1,
   "metadata": {},
   "outputs": [
    {
     "data": {
      "text/plain": [
       "46.0"
      ]
     },
     "execution_count": 1,
     "metadata": {},
     "output_type": "execute_result"
    }
   ],
   "source": [
    "def promedio_automatico(nivel_combustible):\n",
    "    total = sum(nivel_combustible)\n",
    "    muestras = len(nivel_combustible)\n",
    "    return total/muestras\n",
    "# Asignamos algunos valores a la función\n",
    "promedio_automatico([10, 100, 30, 20, 70])"
   ]
  },
  {
   "cell_type": "code",
   "execution_count": 2,
   "metadata": {},
   "outputs": [
    {
     "name": "stdout",
     "output_type": "stream",
     "text": [
      "Reporte de combustible:\n",
      "    Promedio: 44.0 %\n",
      "    Tanque 1: 45 %\n",
      "    Tanque 2: 54 %\n",
      "    Tanque 3: 33 % \n",
      "    \n"
     ]
    }
   ],
   "source": [
    "def informe_combustibles(tanque_1, tanque_2, tanque_3):\n",
    "    promedio_tanques = (tanque_1 + tanque_2 + tanque_3) / 3\n",
    "    return f'''Reporte de combustible:\n",
    "    Promedio: {promedio_automatico([tanque_1, tanque_2, tanque_3])} %\n",
    "    Tanque 1: {tanque_1} %\n",
    "    Tanque 2: {tanque_2} %\n",
    "    Tanque 3: {tanque_3} % \n",
    "    '''\n",
    "print(informe_combustibles(45, 54, 33))"
   ]
  },
  {
   "cell_type": "markdown",
   "metadata": {},
   "source": [
    "# Ejercicio 2"
   ]
  },
  {
   "cell_type": "code",
   "execution_count": 3,
   "metadata": {},
   "outputs": [
    {
     "name": "stdout",
     "output_type": "stream",
     "text": [
      "    xxxxxxxxxxxxxxxxxxxxxxxxxxxxxxxxxxxxxxxxxxxxxxxxxx\n",
      "    Destino de la misión: Luna\n",
      "    Tiempo total: 248 minutos\n",
      "    Combustible total: 500000 litros \n",
      "    xxxxxxxxxxxxxxxxxxxxxxxxxxxxxxxxxxxxxxxxxxxxxxxxxx\n",
      "    \n"
     ]
    }
   ],
   "source": [
    "def Reporte_mision(T_Prelanzamiento, T_Vuelo, Destino, Tanque_interno, Tanque_externo):\n",
    "    return f'''    {'x'*50}\n",
    "    Destino de la misión: {Destino}\n",
    "    Tiempo total: {T_Prelanzamiento + T_Vuelo} minutos\n",
    "    Combustible total: {Tanque_interno + Tanque_externo} litros \n",
    "    {'x'*50}\n",
    "    '''\n",
    "\n",
    "print(Reporte_mision(8, 240, \"Luna\", 200000, 300000))"
   ]
  },
  {
   "cell_type": "code",
   "execution_count": 5,
   "metadata": {},
   "outputs": [
    {
     "name": "stdout",
     "output_type": "stream",
     "text": [
      "\n",
      "    Destino de la misión: Luna\n",
      "    Tiempo total de viaje: 181 minutos\n",
      "    Combustible total: 550200\n",
      "    \n"
     ]
    }
   ],
   "source": [
    "def Reporte_mision(destino, *minutos, **deposito_combustible):\n",
    "    return f'''\n",
    "    Destino de la misión: {destino}\n",
    "    Tiempo total de viaje: {sum(minutos)} minutos\n",
    "    Combustible total: {sum(deposito_combustible.values())}\n",
    "    '''\n",
    "\n",
    "print(Reporte_mision(\"Luna\", 35, 55, 14, 77, tanque_int=200, tanque_ext=550000))"
   ]
  },
  {
   "cell_type": "code",
   "execution_count": 4,
   "metadata": {},
   "outputs": [
    {
     "name": "stdout",
     "output_type": "stream",
     "text": [
      "    °°°°°°°°°°°°°°°°°°°°°°°°°°°°°°°°°°°°°°°°°°°°°°°°°°°°°°°°°°°°°°°°°°°°°°°°°°°°°°°°°°°°°°°°°°°°°°°°°°°°\n",
      "    Destino de la misión: Luna\n",
      "    Tiempo total de viaje: 40 minutos\n",
      "    Combustible total: 15000\n",
      "    °°°°°°°°°°°°°°°°°°°°°°°°°°°°°°°°°°°°°°°°°°°°°°°°°°°°°°°°°°°°°°°°°°°°°°°°°°°°°°°°°°°°°°°°°°°°°°°°°°°°\n",
      "    Tanque interno >>> 5000 litros restantes\n",
      "    Tanque externo >>> 10000 litros restantes\n",
      "    \n"
     ]
    }
   ],
   "source": [
    "def Reporte_mision(destino, *minutos, **deposito_combustible):\n",
    "    Informe_mision = f'''    {'°'*100}\n",
    "    Destino de la misión: {destino}\n",
    "    Tiempo total de viaje: {sum(minutos)} minutos\n",
    "    Combustible total: {sum(deposito_combustible.values())}\n",
    "    {'°'*100}\n",
    "    '''\n",
    "    for tanques, litros in deposito_combustible.items():\n",
    "        Informe_mision += f'Tanque {tanques} >>> {litros} litros restantes\\n    '\n",
    "    return Informe_mision\n",
    "print(Reporte_mision('Luna', 10, 10, 20, interno=5000, externo=10000))"
   ]
  }
 ],
 "metadata": {
  "interpreter": {
   "hash": "21db8381fb8a064fbd0482c49724b5d118b108a5be94012623d7b7db34d4f9f2"
  },
  "kernelspec": {
   "display_name": "Python 3.9.6 64-bit (system)",
   "language": "python",
   "name": "python3"
  },
  "language_info": {
   "codemirror_mode": {
    "name": "ipython",
    "version": 3
   },
   "file_extension": ".py",
   "mimetype": "text/x-python",
   "name": "python",
   "nbconvert_exporter": "python",
   "pygments_lexer": "ipython3",
   "version": "3.9.6"
  },
  "orig_nbformat": 4
 },
 "nbformat": 4,
 "nbformat_minor": 2
}
