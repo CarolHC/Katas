{
 "cells": [
  {
   "cell_type": "markdown",
   "metadata": {},
   "source": [
    "# Operaciones aritméticas"
   ]
  },
  {
   "cell_type": "markdown",
   "metadata": {},
   "source": [
    "## Ejercicio 1"
   ]
  },
  {
   "cell_type": "code",
   "execution_count": 2,
   "metadata": {},
   "outputs": [],
   "source": [
    "# Determinamos la distancia de los planetas\n",
    "dist_Tierra=149597870\n",
    "dist_Jupiter=778547200"
   ]
  },
  {
   "cell_type": "code",
   "execution_count": 5,
   "metadata": {},
   "outputs": [
    {
     "name": "stdout",
     "output_type": "stream",
     "text": [
      "628949330\n",
      "390577534\n"
     ]
    }
   ],
   "source": [
    "# Para calcular la distancia entre ambos planetas:\n",
    "distance_km=dist_Jupiter-dist_Tierra\n",
    "print (distance_km)\n",
    "#Para convertir a millas\n",
    "distance_miles = distance_km * 0.621\n",
    "\n",
    "print(round(distance_miles))\n",
    "\n"
   ]
  },
  {
   "cell_type": "markdown",
   "metadata": {},
   "source": [
    "# Ejercicio 2"
   ]
  },
  {
   "cell_type": "code",
   "execution_count": 6,
   "metadata": {},
   "outputs": [],
   "source": [
    "#Almacenar datos\n",
    "\n",
    "\n",
    "dist_Tierra=input(\"Introduzca la distancia de la Tierra al Sol en Km\")\n",
    "dist_Jupiter=input (\"Introduzca la distancia de Jupiter al Sol en Km\")"
   ]
  },
  {
   "cell_type": "code",
   "execution_count": 7,
   "metadata": {},
   "outputs": [],
   "source": [
    "#se convierte a enteros\n",
    "dist_Tierra=int(dist_Tierra)\n",
    "dist_Jupiter=int(dist_Jupiter)"
   ]
  },
  {
   "cell_type": "code",
   "execution_count": 9,
   "metadata": {},
   "outputs": [
    {
     "name": "stdout",
     "output_type": "stream",
     "text": [
      "628949330\n"
     ]
    }
   ],
   "source": [
    "#Para calcular con el valor absoluto\n",
    "distance_km=dist_Jupiter-dist_Tierra\n",
    "print (abs(distance_km))\n"
   ]
  },
  {
   "cell_type": "code",
   "execution_count": 10,
   "metadata": {},
   "outputs": [
    {
     "name": "stdout",
     "output_type": "stream",
     "text": [
      "628949330\n",
      "390577534\n"
     ]
    }
   ],
   "source": [
    "#La distancia el millas será:\n",
    "distance_km=dist_Jupiter-dist_Tierra\n",
    "print (distance_km)\n",
    "#Para convertir a millas\n",
    "distance_miles = distance_km * 0.621\n",
    "\n",
    "print(round(abs(distance_miles)))\n",
    "\n"
   ]
  }
 ],
 "metadata": {
  "interpreter": {
   "hash": "21db8381fb8a064fbd0482c49724b5d118b108a5be94012623d7b7db34d4f9f2"
  },
  "kernelspec": {
   "display_name": "Python 3.9.6 64-bit (system)",
   "language": "python",
   "name": "python3"
  },
  "language_info": {
   "codemirror_mode": {
    "name": "ipython",
    "version": 3
   },
   "file_extension": ".py",
   "mimetype": "text/x-python",
   "name": "python",
   "nbconvert_exporter": "python",
   "pygments_lexer": "ipython3",
   "version": "3.9.6"
  },
  "orig_nbformat": 4
 },
 "nbformat": 4,
 "nbformat_minor": 2
}
