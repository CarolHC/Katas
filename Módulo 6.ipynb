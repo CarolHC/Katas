{
 "cells": [
  {
   "cell_type": "markdown",
   "metadata": {},
   "source": [
    "# Kata 6\n",
    "\n",
    "## Introducción a las listas"
   ]
  },
  {
   "cell_type": "code",
   "execution_count": 8,
   "metadata": {},
   "outputs": [
    {
     "name": "stdout",
     "output_type": "stream",
     "text": [
      "The first planet is Mercurio\n",
      "The second planet is Venus\n",
      "The third planet is Tierra\n",
      "The fourth planet is Marte\n",
      "The fifth planet is Júpiter\n",
      "The sixth planet is Saturno\n",
      "The seventh planet is Urano\n",
      "The eighth planet is Neptuno\n",
      "There are 8 planets\n"
     ]
    }
   ],
   "source": [
    "#Enlistamos los planetas\n",
    "\n",
    "planets=['Mercurio', 'Venus', 'Tierra', 'Marte', 'Júpiter', 'Saturno', 'Urano','Neptuno']\n",
    "print('The first planet is', planets[0])\n",
    "print('The second planet is', planets[1])\n",
    "print('The third planet is', planets[2])\n",
    "print('The fourth planet is', planets[3])\n",
    "print('The fifth planet is', planets[4])\n",
    "print('The sixth planet is', planets[5])\n",
    "print('The seventh planet is', planets [6])\n",
    "print('The eighth planet is', planets [7])\n",
    "print('There are', len(planets), 'planets')"
   ]
  },
  {
   "cell_type": "code",
   "execution_count": 9,
   "metadata": {},
   "outputs": [
    {
     "name": "stdout",
     "output_type": "stream",
     "text": [
      "Plutón is the last planet\n"
     ]
    }
   ],
   "source": [
    "planets.append('Plutón')\n",
    "\n",
    "print(planets[-1], 'is the last planet')"
   ]
  },
  {
   "cell_type": "markdown",
   "metadata": {},
   "source": [
    "# Ejercicio 2"
   ]
  },
  {
   "cell_type": "code",
   "execution_count": 18,
   "metadata": {},
   "outputs": [],
   "source": [
    "planets=['Mercurio', 'Venus', 'Tierra', 'Marte', 'Júpiter', 'Saturno', 'Urano','Neptuno']\n",
    "user_planet = input('Please enter the name of the planet (with a capital letter to start)')\n",
    "planet_index = planets.index(user_planet)\n",
    "\n"
   ]
  },
  {
   "cell_type": "code",
   "execution_count": 16,
   "metadata": {},
   "outputs": [
    {
     "name": "stdout",
     "output_type": "stream",
     "text": [
      "Here are the planets closer than Mercurio\n",
      "[]\n"
     ]
    }
   ],
   "source": [
    "print('Here are the planets closer than ' + user_planet)\n",
    "print(planets[0:planet_index])"
   ]
  },
  {
   "cell_type": "code",
   "execution_count": 15,
   "metadata": {},
   "outputs": [
    {
     "name": "stdout",
     "output_type": "stream",
     "text": [
      "Here are the planets further than Mercurio\n",
      "['Venus', 'Tierra', 'Marte', 'Júpiter', 'Saturno', 'Urano', 'Neptuno']\n"
     ]
    }
   ],
   "source": [
    "print('Here are the planets further than ' + user_planet)\n",
    "print(planets[planet_index + 1:])"
   ]
  }
 ],
 "metadata": {
  "interpreter": {
   "hash": "21db8381fb8a064fbd0482c49724b5d118b108a5be94012623d7b7db34d4f9f2"
  },
  "kernelspec": {
   "display_name": "Python 3.9.6 64-bit (system)",
   "language": "python",
   "name": "python3"
  },
  "language_info": {
   "codemirror_mode": {
    "name": "ipython",
    "version": 3
   },
   "file_extension": ".py",
   "mimetype": "text/x-python",
   "name": "python",
   "nbconvert_exporter": "python",
   "pygments_lexer": "ipython3",
   "version": "3.9.6"
  },
  "orig_nbformat": 4
 },
 "nbformat": 4,
 "nbformat_minor": 2
}
