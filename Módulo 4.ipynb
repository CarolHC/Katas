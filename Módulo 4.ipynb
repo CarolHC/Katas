{
 "cells": [
  {
   "cell_type": "markdown",
   "metadata": {},
   "source": [
    "# Kata 4\n",
    "## Ejercicio 1"
   ]
  },
  {
   "cell_type": "code",
   "execution_count": 1,
   "metadata": {},
   "outputs": [
    {
     "name": "stdout",
     "output_type": "stream",
     "text": [
      "[' Interesting facts about the Moon', \" The Moon is Earth's only satellite\", ' There are several interesting facts about the Moon and how it affects life here on Earth', ' On average, the Moon moves 4cm away from the Earth every year', ' This yearly drift is not significant enough to cause immediate effects on Earth', ' The highest daylight temperature of the Moon is 127 C']\n"
     ]
    }
   ],
   "source": [
    "text = ''' Interesting facts about the Moon. The Moon is Earth's only satellite. There are several interesting facts about the Moon and how it affects life here on Earth. On average, the Moon moves 4cm away from the Earth every year. This yearly drift is not significant enough to cause immediate effects on Earth. The highest daylight temperature of the Moon is 127 C'''\n",
    "\n",
    "Texto_dividido = text.split('.')\n",
    "print(Texto_dividido)"
   ]
  },
  {
   "cell_type": "code",
   "execution_count": 2,
   "metadata": {},
   "outputs": [
    {
     "name": "stdout",
     "output_type": "stream",
     "text": [
      "Interesting facts about the Moon.\n",
      " The Moon is Earth's only satellite.\n",
      " There are several interesting facts about the Moon and how it affects life here on Earth.\n",
      "\n",
      "On average, the Moon moves 4cm away from the Earth every year.\n",
      " This yearly drift is not significant enough to cause immediate effects on Earth.\n",
      " The highest daylight temperature of the Moon is 127 C. \n",
      "\n",
      "['Interesting facts about the Moon.', \" The Moon is Earth's only satellite.\", ' There are several interesting facts about the Moon and how it affects life here on Earth.', '', 'On average, the Moon moves 4cm away from the Earth every year.', ' This yearly drift is not significant enough to cause immediate effects on Earth.', ' The highest daylight temperature of the Moon is 127 C.']\n"
     ]
    }
   ],
   "source": [
    "text = \"\"\"Interesting facts about the Moon.\\n The Moon is Earth's only satellite.\\n There are several interesting facts about the Moon and how it affects life here on Earth.\\n\n",
    "On average, the Moon moves 4cm away from the Earth every year.\\n This yearly drift is not significant enough to cause immediate effects on Earth.\\n The highest daylight temperature of the Moon is 127 C.\"\"\"\n",
    "print(text, '\\n')\n",
    "\n",
    "\n",
    "Texto_dividido = text.split('\\n')\n",
    "print(Texto_dividido)"
   ]
  },
  {
   "cell_type": "code",
   "execution_count": 3,
   "metadata": {},
   "outputs": [
    {
     "name": "stdout",
     "output_type": "stream",
     "text": [
      "Dato Relacionado: Interesting facts about the Moon.\n",
      "Palabra utilizada: facts\n",
      "\n",
      "Dato Relacionado:  The Moon is Earth's only satellite.\n",
      "Palabra utilizada: satellite\n",
      "\n",
      "Dato Relacionado:  There are several interesting facts about the Moon and how it affects life here on Earth.\n",
      "Palabra utilizada: facts\n",
      "\n",
      "Dato Relacionado: On average, the Moon moves 4cm away from the Earth every year.\n",
      "Palabra utilizada: average\n",
      "\n",
      "Dato Relacionado:  This yearly drift is not significant enough to cause immediate effects on Earth.\n",
      "Palabra utilizada: effects\n",
      "\n",
      "Dato Relacionado:  The highest daylight temperature of the Moon is 127 C.\n",
      "Palabra utilizada: temperature\n",
      "\n"
     ]
    }
   ],
   "source": [
    "Palabras_Clave = ['satellite', 'facts', 'average', 'effects', 'temperature']\n",
    "\n",
    "for Datos in Texto_dividido:\n",
    "    for Clave in Palabras_Clave:\n",
    "        if Clave in Datos:\n",
    "            print('Dato Relacionado: '+ Datos)\n",
    "            print('Palabra utilizada: '+ Clave + '\\n')\n",
    "            break"
   ]
  },
  {
   "cell_type": "code",
   "execution_count": 4,
   "metadata": {},
   "outputs": [
    {
     "name": "stdout",
     "output_type": "stream",
     "text": [
      "Interesting facts about the Moon.\n",
      " The Moon is Earth's only satellite.\n",
      " There are several interesting facts about the Moon and how it affects life here on Earth.\n",
      "On average, the Moon moves 4cm away from the Earth every year.\n",
      " This yearly drift is not significant enough to cause immediate effects on Earth.\n",
      " The highest daylight temperature of the Moon is 127 Celsius.\n"
     ]
    }
   ],
   "source": [
    "for Datos in Texto_dividido:\n",
    "    for Clave in Palabras_Clave:\n",
    "        if Clave in Datos:\n",
    "            print(Datos.replace('C','Celsius'))\n",
    "            break"
   ]
  },
  {
   "cell_type": "code",
   "execution_count": 5,
   "metadata": {},
   "outputs": [
    {
     "name": "stdout",
     "output_type": "stream",
     "text": [
      " The highest daylight temperature of the Moon is 127 Celsius.\n"
     ]
    }
   ],
   "source": [
    "Claves = ['C'] \n",
    "for Datos in Texto_dividido:\n",
    "    for Celsius in Claves:\n",
    "        if Celsius in Datos:\n",
    "            print(Datos.replace('C','Celsius'))\n",
    "            break"
   ]
  },
  {
   "cell_type": "markdown",
   "metadata": {},
   "source": [
    "# Ejercicio 2"
   ]
  },
  {
   "cell_type": "code",
   "execution_count": 6,
   "metadata": {},
   "outputs": [
    {
     "name": "stdout",
     "output_type": "stream",
     "text": [
      "Gravedad Experimentada En Diferentes Lunas: Luna\n",
      "~~~~~~~~~~~~~~~~~~~~~~~~~~~~~~~~~~~~~~~~~~~~~~~~~~~~~~~~~~~~~~~~~~~~~~~~~~~~~~~~~~~~~~~~~~~~~~~~~~~~~~~~~~~~~~~~~~~~~~~~ \n",
      "Planeta: Tierra \n",
      "Gravedad de Luna: 1.6199999999999999 m/s^2\n",
      "~~~~~~~~~~~~~~~~~~~~~~~~~~~~~~~~~~~~~~~~~~~~~~~~~~~~~~~~~~~~~~~~~~~~~~~~~~~~~~~~~~~~~~~~~~~~~~~~~~~~~~~~~~~~~~~~~~~~~~~~\n"
     ]
    }
   ],
   "source": [
    "Nombre = 'Luna'\n",
    "Gravedad = 0.00162 # in Km\n",
    "Planeta = 'Tierra'\n",
    "separador = '~'*120\n",
    "\n",
    "titulo = f'Gravedad experimentada en diferentes lunas: {Nombre}'\n",
    "informacion = f'''{separador} \n",
    "Planeta: {Planeta} \n",
    "Gravedad de {Nombre}: {Gravedad * 1000} m/s^2\n",
    "{separador}'''\n",
    "\n",
    "template = f'''{titulo.title()}\\n{informacion}'''\n",
    "print(template)\n"
   ]
  },
  {
   "cell_type": "code",
   "execution_count": 7,
   "metadata": {},
   "outputs": [
    {
     "name": "stdout",
     "output_type": "stream",
     "text": [
      "~~~~~~~~~~~~~~~~~~~~~~~~~~~~~~~~~~~~~~~~~~~~~~~~~~~~~~~~~~~~~~~~~~~~~~~~~~~~~~~~~~~~~~~~~~~~~~~~~~~~~~~~~~~~~~~~~~~~~~~~ \n",
      "Planeta: Tierra \n",
      "Gravedad de Luna: 1.6199999999999999 m/s^2\n",
      "~~~~~~~~~~~~~~~~~~~~~~~~~~~~~~~~~~~~~~~~~~~~~~~~~~~~~~~~~~~~~~~~~~~~~~~~~~~~~~~~~~~~~~~~~~~~~~~~~~~~~~~~~~~~~~~~~~~~~~~~\n"
     ]
    }
   ],
   "source": [
    "#Nuevos datos\n",
    "Planeta = 'Marte'\n",
    "Gravedad  = 0.00143\n",
    "Nombre = 'Ganímedes'\n",
    "separador = '.'*120\n",
    "print(informacion)"
   ]
  },
  {
   "cell_type": "code",
   "execution_count": 8,
   "metadata": {},
   "outputs": [
    {
     "name": "stdout",
     "output_type": "stream",
     "text": [
      "Gravedad experimentada en diferentes lunas: Ganímedes\n",
      "........................................................................................................................\n",
      "Nombre del planeta: Marte\n",
      "Gravedad en Ganímedes: 1.4300000000000002 m/s2\n",
      "........................................................................................................................\n",
      "\n"
     ]
    }
   ],
   "source": [
    "new_template = '''Gravedad experimentada en diferentes lunas: {Nombre}\n",
    "{separador}\n",
    "Nombre del planeta: {Planeta}\n",
    "Gravedad en {Nombre}: {Gravedad} m/s2\n",
    "{separador}\n",
    "'''\n",
    "print(new_template.format(Nombre=Nombre, Planeta=Planeta, Gravedad=Gravedad*1000, separador=separador))"
   ]
  }
 ],
 "metadata": {
  "interpreter": {
   "hash": "21db8381fb8a064fbd0482c49724b5d118b108a5be94012623d7b7db34d4f9f2"
  },
  "kernelspec": {
   "display_name": "Python 3.9.6 64-bit (system)",
   "language": "python",
   "name": "python3"
  },
  "language_info": {
   "codemirror_mode": {
    "name": "ipython",
    "version": 3
   },
   "file_extension": ".py",
   "mimetype": "text/x-python",
   "name": "python",
   "nbconvert_exporter": "python",
   "pygments_lexer": "ipython3",
   "version": "3.9.6"
  },
  "orig_nbformat": 4
 },
 "nbformat": 4,
 "nbformat_minor": 2
}
